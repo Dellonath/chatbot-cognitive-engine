{
 "cells": [
  {
   "cell_type": "markdown",
   "metadata": {},
   "source": [
    "# Exploratory Text Analysis\n",
    "\n",
    "In this notebook, we will explore the text data of the dataset, Checking the frequency of messages, intents, words, sentiments and other stuff. Will be a basic text analysis.\n",
    "\n",
    "This notebook have a dataset in Portuguese as example, but it can be used in any language, you just need to change the raw data files."
   ]
  },
  {
   "cell_type": "markdown",
   "metadata": {},
   "source": [
    "## 1. Import"
   ]
  },
  {
   "cell_type": "code",
   "execution_count": 1,
   "metadata": {},
   "outputs": [],
   "source": [
    "import pandas as pd \n",
    "import matplotlib.pyplot as plt\n",
    "\n",
    "%matplotlib inline"
   ]
  },
  {
   "cell_type": "markdown",
   "metadata": {},
   "source": [
    "## 2. Load data"
   ]
  },
  {
   "cell_type": "markdown",
   "metadata": {},
   "source": [
    "#### 2.1 Examples"
   ]
  },
  {
   "cell_type": "code",
   "execution_count": 2,
   "metadata": {},
   "outputs": [
    {
     "name": "stdout",
     "output_type": "stream",
     "text": [
      "<class 'pandas.core.frame.DataFrame'>\n",
      "Int64Index: 423 entries, 0 to 433\n",
      "Data columns (total 2 columns):\n",
      " #   Column  Non-Null Count  Dtype \n",
      "---  ------  --------------  ----- \n",
      " 0   target  423 non-null    object\n",
      " 1   phrase  423 non-null    object\n",
      "dtypes: object(2)\n",
      "memory usage: 9.9+ KB\n"
     ]
    }
   ],
   "source": [
    "examples = pd.read_parquet('../data/raw/examples/raw.parquet')\n",
    "examples.info()"
   ]
  },
  {
   "cell_type": "markdown",
   "metadata": {},
   "source": [
    "#### 2.2 Responses"
   ]
  },
  {
   "cell_type": "code",
   "execution_count": 3,
   "metadata": {},
   "outputs": [
    {
     "name": "stdout",
     "output_type": "stream",
     "text": [
      "<class 'pandas.core.frame.DataFrame'>\n",
      "RangeIndex: 24 entries, 0 to 23\n",
      "Data columns (total 2 columns):\n",
      " #   Column    Non-Null Count  Dtype \n",
      "---  ------    --------------  ----- \n",
      " 0   target    24 non-null     object\n",
      " 1   response  24 non-null     object\n",
      "dtypes: object(2)\n",
      "memory usage: 512.0+ bytes\n"
     ]
    }
   ],
   "source": [
    "responses = pd.read_parquet('../data/external/responses-phrases.parquet')\n",
    "responses.info()"
   ]
  },
  {
   "cell_type": "markdown",
   "metadata": {},
   "source": [
    "#### 2.3 Sentiment Analysis"
   ]
  },
  {
   "cell_type": "code",
   "execution_count": 4,
   "metadata": {},
   "outputs": [
    {
     "name": "stdout",
     "output_type": "stream",
     "text": [
      "<class 'pandas.core.frame.DataFrame'>\n",
      "RangeIndex: 99384 entries, 0 to 99383\n",
      "Data columns (total 2 columns):\n",
      " #   Column  Non-Null Count  Dtype \n",
      "---  ------  --------------  ----- \n",
      " 0   target  99384 non-null  object\n",
      " 1   phrase  99384 non-null  object\n",
      "dtypes: object(2)\n",
      "memory usage: 1.5+ MB\n"
     ]
    }
   ],
   "source": [
    "sentiment_analysis = pd.read_parquet('../data/external/sentiment-analysis-portuguese.parquet')\n",
    "sentiment_analysis.info()"
   ]
  },
  {
   "cell_type": "markdown",
   "metadata": {},
   "source": [
    "## 3. Explore data"
   ]
  },
  {
   "cell_type": "markdown",
   "metadata": {},
   "source": [
    "### 3.1 Data overview"
   ]
  },
  {
   "cell_type": "code",
   "execution_count": 5,
   "metadata": {},
   "outputs": [
    {
     "data": {
      "text/html": [
       "<div>\n",
       "<style scoped>\n",
       "    .dataframe tbody tr th:only-of-type {\n",
       "        vertical-align: middle;\n",
       "    }\n",
       "\n",
       "    .dataframe tbody tr th {\n",
       "        vertical-align: top;\n",
       "    }\n",
       "\n",
       "    .dataframe thead th {\n",
       "        text-align: right;\n",
       "    }\n",
       "</style>\n",
       "<table border=\"1\" class=\"dataframe\">\n",
       "  <thead>\n",
       "    <tr style=\"text-align: right;\">\n",
       "      <th></th>\n",
       "      <th>target</th>\n",
       "      <th>phrase</th>\n",
       "    </tr>\n",
       "  </thead>\n",
       "  <tbody>\n",
       "    <tr>\n",
       "      <th>84</th>\n",
       "      <td>baixar_app</td>\n",
       "      <td>Quero reativar o app</td>\n",
       "    </tr>\n",
       "    <tr>\n",
       "      <th>93</th>\n",
       "      <td>conhecer_contatos</td>\n",
       "      <td>Como entro em contato com o atendimento telefo...</td>\n",
       "    </tr>\n",
       "    <tr>\n",
       "      <th>220</th>\n",
       "      <td>liberar_dispositivo</td>\n",
       "      <td>Como faço para fazer a liberação por sms?</td>\n",
       "    </tr>\n",
       "    <tr>\n",
       "      <th>346</th>\n",
       "      <td>solicitar_acordo</td>\n",
       "      <td>Quero refinanciar meus empréstimos</td>\n",
       "    </tr>\n",
       "    <tr>\n",
       "      <th>301</th>\n",
       "      <td>alterar_senha</td>\n",
       "      <td>Como faço outra senha</td>\n",
       "    </tr>\n",
       "    <tr>\n",
       "      <th>31</th>\n",
       "      <td>acessar_conta</td>\n",
       "      <td>Como faço pra abrir meu app</td>\n",
       "    </tr>\n",
       "    <tr>\n",
       "      <th>97</th>\n",
       "      <td>conhecer_contatos</td>\n",
       "      <td>Conhecer contatos do Banco Magnus</td>\n",
       "    </tr>\n",
       "    <tr>\n",
       "      <th>398</th>\n",
       "      <td>quero_emprestimo</td>\n",
       "      <td>Como que eu faço para tomar um empréstimo com ...</td>\n",
       "    </tr>\n",
       "    <tr>\n",
       "      <th>153</th>\n",
       "      <td>desbloquear_app</td>\n",
       "      <td>Excedi números de tentativas e bloqueou o app</td>\n",
       "    </tr>\n",
       "    <tr>\n",
       "      <th>278</th>\n",
       "      <td>receber_extrato</td>\n",
       "      <td>Estou querendo o extrato do mês</td>\n",
       "    </tr>\n",
       "  </tbody>\n",
       "</table>\n",
       "</div>"
      ],
      "text/plain": [
       "                  target                                             phrase\n",
       "84            baixar_app                               Quero reativar o app\n",
       "93     conhecer_contatos  Como entro em contato com o atendimento telefo...\n",
       "220  liberar_dispositivo          Como faço para fazer a liberação por sms?\n",
       "346     solicitar_acordo                 Quero refinanciar meus empréstimos\n",
       "301        alterar_senha                              Como faço outra senha\n",
       "31         acessar_conta                        Como faço pra abrir meu app\n",
       "97     conhecer_contatos                  Conhecer contatos do Banco Magnus\n",
       "398     quero_emprestimo  Como que eu faço para tomar um empréstimo com ...\n",
       "153      desbloquear_app      Excedi números de tentativas e bloqueou o app\n",
       "278      receber_extrato                    Estou querendo o extrato do mês"
      ]
     },
     "execution_count": 5,
     "metadata": {},
     "output_type": "execute_result"
    }
   ],
   "source": [
    "examples.sample(10)"
   ]
  },
  {
   "cell_type": "code",
   "execution_count": 6,
   "metadata": {},
   "outputs": [
    {
     "data": {
      "text/html": [
       "<div>\n",
       "<style scoped>\n",
       "    .dataframe tbody tr th:only-of-type {\n",
       "        vertical-align: middle;\n",
       "    }\n",
       "\n",
       "    .dataframe tbody tr th {\n",
       "        vertical-align: top;\n",
       "    }\n",
       "\n",
       "    .dataframe thead th {\n",
       "        text-align: right;\n",
       "    }\n",
       "</style>\n",
       "<table border=\"1\" class=\"dataframe\">\n",
       "  <thead>\n",
       "    <tr style=\"text-align: right;\">\n",
       "      <th></th>\n",
       "      <th>target</th>\n",
       "      <th>response</th>\n",
       "    </tr>\n",
       "  </thead>\n",
       "  <tbody>\n",
       "    <tr>\n",
       "      <th>3</th>\n",
       "      <td>alterar_limite_cartao</td>\n",
       "      <td>Para alterar seu limite do cartão, primeiramen...</td>\n",
       "    </tr>\n",
       "    <tr>\n",
       "      <th>20</th>\n",
       "      <td>quero_boleto</td>\n",
       "      <td>Ok, verifiquei aqui que você quer o boleto. Nó...</td>\n",
       "    </tr>\n",
       "    <tr>\n",
       "      <th>15</th>\n",
       "      <td>realizar_transferencia</td>\n",
       "      <td>Nosso App pode te ajudar nisso :). Na seção Tr...</td>\n",
       "    </tr>\n",
       "    <tr>\n",
       "      <th>16</th>\n",
       "      <td>receber_extrato</td>\n",
       "      <td>Para receber seu extrato, acesse o App na seçã...</td>\n",
       "    </tr>\n",
       "    <tr>\n",
       "      <th>10</th>\n",
       "      <td>encerrar_conta</td>\n",
       "      <td>É uma pena que deseja encerrar sua conta no no...</td>\n",
       "    </tr>\n",
       "    <tr>\n",
       "      <th>12</th>\n",
       "      <td>liberar_dispositivo</td>\n",
       "      <td>Claro! Podemos liberar seu dispositivo. Para i...</td>\n",
       "    </tr>\n",
       "    <tr>\n",
       "      <th>22</th>\n",
       "      <td>quero_emprestimo</td>\n",
       "      <td>Você pode realizar Empréstimos a qualquer mome...</td>\n",
       "    </tr>\n",
       "    <tr>\n",
       "      <th>6</th>\n",
       "      <td>conhecer_divida</td>\n",
       "      <td>Humm... Para saber sua dívida, você precisa ac...</td>\n",
       "    </tr>\n",
       "    <tr>\n",
       "      <th>17</th>\n",
       "      <td>alterar_senha</td>\n",
       "      <td>Certo!Alterar senha sempre é bom por questões ...</td>\n",
       "    </tr>\n",
       "    <tr>\n",
       "      <th>19</th>\n",
       "      <td>solicitar_acordo</td>\n",
       "      <td>Ok, você pode solicitar um acordo pelo Aplicat...</td>\n",
       "    </tr>\n",
       "  </tbody>\n",
       "</table>\n",
       "</div>"
      ],
      "text/plain": [
       "                    target                                           response\n",
       "3    alterar_limite_cartao  Para alterar seu limite do cartão, primeiramen...\n",
       "20            quero_boleto  Ok, verifiquei aqui que você quer o boleto. Nó...\n",
       "15  realizar_transferencia  Nosso App pode te ajudar nisso :). Na seção Tr...\n",
       "16         receber_extrato  Para receber seu extrato, acesse o App na seçã...\n",
       "10          encerrar_conta  É uma pena que deseja encerrar sua conta no no...\n",
       "12     liberar_dispositivo  Claro! Podemos liberar seu dispositivo. Para i...\n",
       "22        quero_emprestimo  Você pode realizar Empréstimos a qualquer mome...\n",
       "6          conhecer_divida  Humm... Para saber sua dívida, você precisa ac...\n",
       "17           alterar_senha  Certo!Alterar senha sempre é bom por questões ...\n",
       "19        solicitar_acordo  Ok, você pode solicitar um acordo pelo Aplicat..."
      ]
     },
     "execution_count": 6,
     "metadata": {},
     "output_type": "execute_result"
    }
   ],
   "source": [
    "responses.sample(10)"
   ]
  },
  {
   "cell_type": "markdown",
   "metadata": {},
   "source": [
    "### 3.2 Intents Distribution"
   ]
  },
  {
   "cell_type": "code",
   "execution_count": 7,
   "metadata": {},
   "outputs": [
    {
     "name": "stdout",
     "output_type": "stream",
     "text": [
      "Number of different intents: 24\n",
      "Number of phrases: 423\n",
      "Median number of phrases: 16.5\n"
     ]
    }
   ],
   "source": [
    "# count the number of phrases per intent\n",
    "intents_count = examples.target.value_counts()\n",
    "\n",
    "print('Number of different intents:', len(intents_count.index))\n",
    "print('Number of phrases:', intents_count.sum())\n",
    "print('Median number of phrases:', intents_count.median())"
   ]
  },
  {
   "cell_type": "code",
   "execution_count": 8,
   "metadata": {},
   "outputs": [
    {
     "data": {
      "image/png": "[encoded data removed]",
      "text/plain": [
       "<Figure size 720x720 with 1 Axes>"
      ]
     },
     "metadata": {
      "needs_background": "light"
     },
     "output_type": "display_data"
    }
   ],
   "source": [
    "intents_count.sort_index(ascending = False).plot.barh(figsize = (10, 10))\n",
    "plt.axvline(intents_count.median(), color = 'darkorange', linewidth = 2)\n",
    "plt.title('Intents count', fontsize = 16)\n",
    "plt.xlabel('Count', fontsize = 12)\n",
    "plt.ylabel('Intents', fontsize = 12)\n",
    "plt.legend(['Median'])\n",
    "plt.show()"
   ]
  },
  {
   "cell_type": "markdown",
   "metadata": {},
   "source": [
    "How is possible to note the dataset has unbalanced intents with different numbers of examples. So is necessary to balance our dataset with some techniques. In this case, we will use the technique of oversampling and data augmentation to generate more examples. Oversampling will be used when we will make the train data."
   ]
  },
  {
   "cell_type": "code",
   "execution_count": 9,
   "metadata": {},
   "outputs": [
    {
     "data": {
      "text/plain": [
       "Quero abrir uma conta no banco Banco Magnus           1\n",
       "Como faço para ver valor do meu benefício             1\n",
       "Tem como redefinir a senha por aqui?                  1\n",
       "Não sei qual é a senha                                1\n",
       "Preciso da senha para usar o app                      1\n",
       "                                                     ..\n",
       "Quero saber limites do meu cartão                     1\n",
       "Gostaria do aumento de limite do cartão de crédito    1\n",
       "Qual o limite que vai vir no cartão?                  1\n",
       "Quero saber quanto posso gastar no cartão             1\n",
       "Saber desconto do empréstimo                          1\n",
       "Name: phrase, Length: 423, dtype: int64"
      ]
     },
     "execution_count": 9,
     "metadata": {},
     "output_type": "execute_result"
    }
   ],
   "source": [
    "examples.phrase.value_counts()"
   ]
  },
  {
   "cell_type": "markdown",
   "metadata": {},
   "source": [
    "### 3.3 Most used words"
   ]
  },
  {
   "cell_type": "code",
   "execution_count": 10,
   "metadata": {},
   "outputs": [
    {
     "data": {
      "image/png": "[encoded data removed]",
      "text/plain": [
       "<Figure size 720x360 with 1 Axes>"
      ]
     },
     "metadata": {
      "needs_background": "light"
     },
     "output_type": "display_data"
    }
   ],
   "source": [
    "# listing words\n",
    "words = examples.phrase.str.lower().apply(str.split).sum()\n",
    "\n",
    "# reading portuguese stopwords\n",
    "stopwords = open('../data/external/stopwords.csv', 'r').read().split('\\n')\n",
    "\n",
    "# removing stopwords\n",
    "words = pd.Series(filter(lambda word: word not in stopwords, words))\n",
    "\n",
    "top_ten_words = words.value_counts().head(10)\n",
    "top_ten_words.plot.barh(figsize = (10, 5)).invert_yaxis()\n",
    "plt.title('Top 10 used words', fontsize = 16)\n",
    "plt.xlabel('Count', fontsize = 12)\n",
    "plt.ylabel('Words', fontsize = 12)\n",
    "plt.show()"
   ]
  },
  {
   "cell_type": "markdown",
   "metadata": {},
   "source": [
    "The portuguese verb 'Quero' (Want) is the most user word in the dataset. So we can infer that the majority of intents are about Want something such as credit card, bills and other stuff."
   ]
  },
  {
   "cell_type": "code",
   "execution_count": 11,
   "metadata": {},
   "outputs": [
    {
     "data": {
      "image/png": "[encoded data removed]",
      "text/plain": [
       "<Figure size 720x360 with 1 Axes>"
      ]
     },
     "metadata": {
      "needs_background": "light"
     },
     "output_type": "display_data"
    }
   ],
   "source": [
    "def word_frequency(word):\n",
    "    return examples.phrase.str.lower().apply(lambda message: word in message).sum() / examples.shape[0]\n",
    "    \n",
    "top_ten_words_frequency = top_ten_words.index.to_series().apply(word_frequency)\n",
    "\n",
    "top_ten_words_frequency.plot.barh(figsize = (10, 5)).invert_yaxis()\n",
    "plt.title('Top 10 used words frequency in messages', fontsize = 16)\n",
    "plt.xlabel('Count', fontsize = 12)\n",
    "plt.ylabel('Words', fontsize = 12)\n",
    "plt.show()"
   ]
  },
  {
   "cell_type": "markdown",
   "metadata": {},
   "source": [
    "The verb 'Quero' (Want) appear in 26% of the dataset messages, followed by 'Conta' (Account) and 'Cartão' (Credit Card)."
   ]
  },
  {
   "cell_type": "markdown",
   "metadata": {},
   "source": [
    "### 3.4 Sentiment Analysis\n",
    "\n",
    "This dataset contains several tweets in Portuguese tagged as positive, negative or neutral. This dataset will be used to train a sentiment analysis model.\n",
    "\n",
    "We have three classes of sentiment:\n",
    "*  positive: messages that are positive, like \"I am happy\";\n",
    "*  negative: messages that are negative, like \"I am sad\";\n",
    "*  neutral: messages that are neutral, like \"I am not sure\"."
   ]
  },
  {
   "cell_type": "code",
   "execution_count": 12,
   "metadata": {},
   "outputs": [
    {
     "data": {
      "text/html": [
       "<div>\n",
       "<style scoped>\n",
       "    .dataframe tbody tr th:only-of-type {\n",
       "        vertical-align: middle;\n",
       "    }\n",
       "\n",
       "    .dataframe tbody tr th {\n",
       "        vertical-align: top;\n",
       "    }\n",
       "\n",
       "    .dataframe thead th {\n",
       "        text-align: right;\n",
       "    }\n",
       "</style>\n",
       "<table border=\"1\" class=\"dataframe\">\n",
       "  <thead>\n",
       "    <tr style=\"text-align: right;\">\n",
       "      <th></th>\n",
       "      <th>target</th>\n",
       "      <th>phrase</th>\n",
       "    </tr>\n",
       "  </thead>\n",
       "  <tbody>\n",
       "    <tr>\n",
       "      <th>0</th>\n",
       "      <td>negative</td>\n",
       "      <td>Ja nem sei o que eu faço da minha vida :(</td>\n",
       "    </tr>\n",
       "    <tr>\n",
       "      <th>1</th>\n",
       "      <td>positive</td>\n",
       "      <td>@UncleDeathMono vamos sim, só me chamar :)</td>\n",
       "    </tr>\n",
       "    <tr>\n",
       "      <th>2</th>\n",
       "      <td>neutral</td>\n",
       "      <td>Você sabia? #curiosidade Caso Ciro Gomes vença...</td>\n",
       "    </tr>\n",
       "    <tr>\n",
       "      <th>3</th>\n",
       "      <td>positive</td>\n",
       "      <td>Ja devia de saber que tens papos com todas :))</td>\n",
       "    </tr>\n",
       "    <tr>\n",
       "      <th>4</th>\n",
       "      <td>negative</td>\n",
       "      <td>Caralho, eu tô muito assustada. E pensar que m...</td>\n",
       "    </tr>\n",
       "    <tr>\n",
       "      <th>5</th>\n",
       "      <td>negative</td>\n",
       "      <td>Anjo da minha vida :( https://t.co/K2pXx7Yx7X</td>\n",
       "    </tr>\n",
       "    <tr>\n",
       "      <th>6</th>\n",
       "      <td>positive</td>\n",
       "      <td>@maldsuado *andava a apanhar :)</td>\n",
       "    </tr>\n",
       "    <tr>\n",
       "      <th>7</th>\n",
       "      <td>positive</td>\n",
       "      <td>mais 1 mês sem nenhum real no bolso comendo o ...</td>\n",
       "    </tr>\n",
       "    <tr>\n",
       "      <th>8</th>\n",
       "      <td>negative</td>\n",
       "      <td>Recebi um áudio da minha vó dizendo que tá mui...</td>\n",
       "    </tr>\n",
       "    <tr>\n",
       "      <th>9</th>\n",
       "      <td>negative</td>\n",
       "      <td>oi @hyuckpetit te amo :((</td>\n",
       "    </tr>\n",
       "  </tbody>\n",
       "</table>\n",
       "</div>"
      ],
      "text/plain": [
       "     target                                             phrase\n",
       "0  negative          Ja nem sei o que eu faço da minha vida :(\n",
       "1  positive         @UncleDeathMono vamos sim, só me chamar :)\n",
       "2   neutral  Você sabia? #curiosidade Caso Ciro Gomes vença...\n",
       "3  positive     Ja devia de saber que tens papos com todas :))\n",
       "4  negative  Caralho, eu tô muito assustada. E pensar que m...\n",
       "5  negative      Anjo da minha vida :( https://t.co/K2pXx7Yx7X\n",
       "6  positive                    @maldsuado *andava a apanhar :)\n",
       "7  positive  mais 1 mês sem nenhum real no bolso comendo o ...\n",
       "8  negative  Recebi um áudio da minha vó dizendo que tá mui...\n",
       "9  negative                          oi @hyuckpetit te amo :(("
      ]
     },
     "execution_count": 12,
     "metadata": {},
     "output_type": "execute_result"
    }
   ],
   "source": [
    "sentiment_analysis.head(10)"
   ]
  },
  {
   "cell_type": "code",
   "execution_count": 13,
   "metadata": {},
   "outputs": [
    {
     "data": {
      "image/png": "[encoded data removed]",
      "text/plain": [
       "<Figure size 720x360 with 1 Axes>"
      ]
     },
     "metadata": {},
     "output_type": "display_data"
    }
   ],
   "source": [
    "sentiment_analysis.target.value_counts().plot.pie(figsize = (10, 5), colors = ['teal', 'pink', 'lightgrey'])\n",
    "plt.title('Sentiment analysis', fontsize = 16)\n",
    "plt.ylabel('')\n",
    "plt.show()"
   ]
  },
  {
   "cell_type": "markdown",
   "metadata": {},
   "source": [
    "These classes are balanced, they have the same number of examples. This is a good sign, we don't need to balance our dataset."
   ]
  },
  {
   "cell_type": "code",
   "execution_count": 14,
   "metadata": {},
   "outputs": [
    {
     "data": {
      "text/html": [
       "<div>\n",
       "<style scoped>\n",
       "    .dataframe tbody tr th:only-of-type {\n",
       "        vertical-align: middle;\n",
       "    }\n",
       "\n",
       "    .dataframe tbody tr th {\n",
       "        vertical-align: top;\n",
       "    }\n",
       "\n",
       "    .dataframe thead th {\n",
       "        text-align: right;\n",
       "    }\n",
       "</style>\n",
       "<table border=\"1\" class=\"dataframe\">\n",
       "  <thead>\n",
       "    <tr style=\"text-align: right;\">\n",
       "      <th></th>\n",
       "      <th>target</th>\n",
       "      <th>phrase</th>\n",
       "    </tr>\n",
       "  </thead>\n",
       "  <tbody>\n",
       "    <tr>\n",
       "      <th>21898</th>\n",
       "      <td>negative</td>\n",
       "      <td>@sofalas Oh vou sim :(( eu fico a tomar conta ...</td>\n",
       "    </tr>\n",
       "    <tr>\n",
       "      <th>18139</th>\n",
       "      <td>negative</td>\n",
       "      <td>@karlatimes e você é o amor da minha :(</td>\n",
       "    </tr>\n",
       "    <tr>\n",
       "      <th>2515</th>\n",
       "      <td>negative</td>\n",
       "      <td>@ifshawnsttay ah naaao :(, ficou muito lindo</td>\n",
       "    </tr>\n",
       "    <tr>\n",
       "      <th>75560</th>\n",
       "      <td>negative</td>\n",
       "      <td>@lihvinha nesses dois não existe um menos pior...</td>\n",
       "    </tr>\n",
       "    <tr>\n",
       "      <th>11934</th>\n",
       "      <td>positive</td>\n",
       "      <td>@rr4gang nada :) kkkk</td>\n",
       "    </tr>\n",
       "    <tr>\n",
       "      <th>56628</th>\n",
       "      <td>neutral</td>\n",
       "      <td>O #tbt de hoje é com ela @meelzitha; pq a vitó...</td>\n",
       "    </tr>\n",
       "    <tr>\n",
       "      <th>48180</th>\n",
       "      <td>positive</td>\n",
       "      <td>@sejehomi Até falando trem e aperriando a pobr...</td>\n",
       "    </tr>\n",
       "    <tr>\n",
       "      <th>98750</th>\n",
       "      <td>negative</td>\n",
       "      <td>@rosselette @hyuuve HSUTTHEHFUCCJKDUP esto ya ...</td>\n",
       "    </tr>\n",
       "    <tr>\n",
       "      <th>21749</th>\n",
       "      <td>negative</td>\n",
       "      <td>@sichrng eu? quero? gritar?:(</td>\n",
       "    </tr>\n",
       "    <tr>\n",
       "      <th>43223</th>\n",
       "      <td>negative</td>\n",
       "      <td>@Any_CedC RAIOS :(</td>\n",
       "    </tr>\n",
       "  </tbody>\n",
       "</table>\n",
       "</div>"
      ],
      "text/plain": [
       "         target                                             phrase\n",
       "21898  negative  @sofalas Oh vou sim :(( eu fico a tomar conta ...\n",
       "18139  negative            @karlatimes e você é o amor da minha :(\n",
       "2515   negative       @ifshawnsttay ah naaao :(, ficou muito lindo\n",
       "75560  negative  @lihvinha nesses dois não existe um menos pior...\n",
       "11934  positive                              @rr4gang nada :) kkkk\n",
       "56628   neutral  O #tbt de hoje é com ela @meelzitha; pq a vitó...\n",
       "48180  positive  @sejehomi Até falando trem e aperriando a pobr...\n",
       "98750  negative  @rosselette @hyuuve HSUTTHEHFUCCJKDUP esto ya ...\n",
       "21749  negative                      @sichrng eu? quero? gritar?:(\n",
       "43223  negative                                 @Any_CedC RAIOS :("
      ]
     },
     "execution_count": 14,
     "metadata": {},
     "output_type": "execute_result"
    }
   ],
   "source": [
    "sentiment_analysis[sentiment_analysis.phrase.str.contains('@')].sample(10)"
   ]
  },
  {
   "cell_type": "markdown",
   "metadata": {},
   "source": [
    "Tweets contain some words with '@' and '#' characters. These characters are used to tag the tweets as a user mention or a hashtag. We need to drop these words. In addition, some words are not useful, like '&gt' and 'https' (URL). We need to drop these words.\n",
    "\n",
    "We will do it to minimize the number of words in our train dataset."
   ]
  }
 ],
 "metadata": {
  "interpreter": {
   "hash": "8854ffc1acb418bd20ac8278d78f558b17f274f809badc935fbf57036acb6f10"
  },
  "kernelspec": {
   "display_name": "Python 3.8.10 ('env': venv)",
   "language": "python",
   "name": "python3"
  },
  "language_info": {
   "codemirror_mode": {
    "name": "ipython",
    "version": 3
   },
   "file_extension": ".py",
   "mimetype": "text/x-python",
   "name": "python",
   "nbconvert_exporter": "python",
   "pygments_lexer": "ipython3",
   "version": "3.8.10"
  },
  "orig_nbformat": 4
 },
 "nbformat": 4,
 "nbformat_minor": 2
}
