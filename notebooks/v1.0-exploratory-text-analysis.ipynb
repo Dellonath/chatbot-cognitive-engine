{
 "cells": [
  {
   "cell_type": "markdown",
   "metadata": {},
   "source": [
    "# Exploratory Text Analysis\n",
    "\n",
    "In this notebook, we will explore the text data of the dataset, Checking the frequency of messages, intents, words, sentiments and other stuff. Will be a basic text analysis.\n",
    "\n",
    "This notebook have a dataset in Portuguese as example, but it can be used in any language, you just need to change the raw data files."
   ]
  },
  {
   "cell_type": "markdown",
   "metadata": {},
   "source": [
    "## 1. Import"
   ]
  },
  {
   "cell_type": "code",
   "execution_count": 1,
   "metadata": {},
   "outputs": [],
   "source": [
    "import pandas as pd \n",
    "import matplotlib.pyplot as plt\n",
    "\n",
    "%matplotlib inline"
   ]
  },
  {
   "cell_type": "markdown",
   "metadata": {},
   "source": [
    "## 2. Load data"
   ]
  },
  {
   "cell_type": "markdown",
   "metadata": {},
   "source": [
    "#### 2.1 Examples"
   ]
  },
  {
   "cell_type": "code",
   "execution_count": 2,
   "metadata": {},
   "outputs": [
    {
     "name": "stdout",
     "output_type": "stream",
     "text": [
      "<class 'pandas.core.frame.DataFrame'>\n",
      "RangeIndex: 434 entries, 0 to 433\n",
      "Data columns (total 2 columns):\n",
      " #   Column  Non-Null Count  Dtype \n",
      "---  ------  --------------  ----- \n",
      " 0   phrase  434 non-null    object\n",
      " 1   intent  434 non-null    object\n",
      "dtypes: object(2)\n",
      "memory usage: 6.9+ KB\n"
     ]
    }
   ],
   "source": [
    "phrase = pd.read_parquet('../data/raw/examples/raw-phrase.parquet')\n",
    "target = pd.read_parquet('../data/raw/examples/raw-target.parquet')\n",
    "\n",
    "examples = pd.concat([phrase, target], axis = 1)\t\n",
    "examples.info()"
   ]
  },
  {
   "cell_type": "markdown",
   "metadata": {},
   "source": [
    "#### 2.2 Responses"
   ]
  },
  {
   "cell_type": "code",
   "execution_count": 3,
   "metadata": {},
   "outputs": [
    {
     "name": "stdout",
     "output_type": "stream",
     "text": [
      "<class 'pandas.core.frame.DataFrame'>\n",
      "RangeIndex: 23 entries, 0 to 22\n",
      "Data columns (total 2 columns):\n",
      " #   Column    Non-Null Count  Dtype \n",
      "---  ------    --------------  ----- \n",
      " 0   intent    23 non-null     object\n",
      " 1   response  23 non-null     object\n",
      "dtypes: object(2)\n",
      "memory usage: 496.0+ bytes\n"
     ]
    }
   ],
   "source": [
    "responses = pd.read_parquet('../data/external/responses-phrases.parquet')\n",
    "responses.info()"
   ]
  },
  {
   "cell_type": "markdown",
   "metadata": {},
   "source": [
    "#### 2.3 Sentiment Analysis"
   ]
  },
  {
   "cell_type": "code",
   "execution_count": 4,
   "metadata": {},
   "outputs": [
    {
     "name": "stdout",
     "output_type": "stream",
     "text": [
      "<class 'pandas.core.frame.DataFrame'>\n",
      "RangeIndex: 99384 entries, 0 to 99383\n",
      "Data columns (total 2 columns):\n",
      " #   Column  Non-Null Count  Dtype \n",
      "---  ------  --------------  ----- \n",
      " 0   phrase  99384 non-null  object\n",
      " 1   target  99384 non-null  object\n",
      "dtypes: object(2)\n",
      "memory usage: 1.5+ MB\n"
     ]
    }
   ],
   "source": [
    "phrase = pd.read_parquet('../data/raw/sentiments/raw-phrase.parquet')\n",
    "target = pd.read_parquet('../data/raw/sentiments/raw-target.parquet')\n",
    "\n",
    "sentiment_analysis = pd.concat([phrase, target], axis = 1)\t\n",
    "sentiment_analysis.info()"
   ]
  },
  {
   "cell_type": "markdown",
   "metadata": {},
   "source": [
    "## 3. Explore data"
   ]
  },
  {
   "cell_type": "markdown",
   "metadata": {},
   "source": [
    "### 3.1 Data overview"
   ]
  },
  {
   "cell_type": "code",
   "execution_count": 5,
   "metadata": {},
   "outputs": [
    {
     "data": {
      "text/html": [
       "<div>\n",
       "<style scoped>\n",
       "    .dataframe tbody tr th:only-of-type {\n",
       "        vertical-align: middle;\n",
       "    }\n",
       "\n",
       "    .dataframe tbody tr th {\n",
       "        vertical-align: top;\n",
       "    }\n",
       "\n",
       "    .dataframe thead th {\n",
       "        text-align: right;\n",
       "    }\n",
       "</style>\n",
       "<table border=\"1\" class=\"dataframe\">\n",
       "  <thead>\n",
       "    <tr style=\"text-align: right;\">\n",
       "      <th></th>\n",
       "      <th>phrase</th>\n",
       "      <th>intent</th>\n",
       "    </tr>\n",
       "  </thead>\n",
       "  <tbody>\n",
       "    <tr>\n",
       "      <th>256</th>\n",
       "      <td>Como faço para tranferir do aplicativo para ou...</td>\n",
       "      <td>realizar_transferencia</td>\n",
       "    </tr>\n",
       "    <tr>\n",
       "      <th>153</th>\n",
       "      <td>Excedi números de tentativas e bloqueou o app</td>\n",
       "      <td>desbloquear_app</td>\n",
       "    </tr>\n",
       "    <tr>\n",
       "      <th>102</th>\n",
       "      <td>Como falar com o gerente da minha conta</td>\n",
       "      <td>conhecer_contatos</td>\n",
       "    </tr>\n",
       "    <tr>\n",
       "      <th>106</th>\n",
       "      <td>Gostaria de ligar para um atendente</td>\n",
       "      <td>conhecer_contatos</td>\n",
       "    </tr>\n",
       "    <tr>\n",
       "      <th>71</th>\n",
       "      <td>Quero fazer uma alteração de limite de crédito</td>\n",
       "      <td>alterar_limite_cartao</td>\n",
       "    </tr>\n",
       "    <tr>\n",
       "      <th>349</th>\n",
       "      <td>Quero fazer refinanciamento</td>\n",
       "      <td>solicitar_acordo</td>\n",
       "    </tr>\n",
       "    <tr>\n",
       "      <th>300</th>\n",
       "      <td>Como criar a senha</td>\n",
       "      <td>alterar_senha</td>\n",
       "    </tr>\n",
       "    <tr>\n",
       "      <th>57</th>\n",
       "      <td>Gostaria de saber se consigo alterar o endereç...</td>\n",
       "      <td>alterar_dados_cadastrais</td>\n",
       "    </tr>\n",
       "    <tr>\n",
       "      <th>121</th>\n",
       "      <td>Consta que tenho um débito em aberto com vocês</td>\n",
       "      <td>conhecer_divida</td>\n",
       "    </tr>\n",
       "    <tr>\n",
       "      <th>86</th>\n",
       "      <td>Fazer instalação do aplicativo</td>\n",
       "      <td>baixar_app</td>\n",
       "    </tr>\n",
       "  </tbody>\n",
       "</table>\n",
       "</div>"
      ],
      "text/plain": [
       "                                                phrase  \\\n",
       "256  Como faço para tranferir do aplicativo para ou...   \n",
       "153      Excedi números de tentativas e bloqueou o app   \n",
       "102            Como falar com o gerente da minha conta   \n",
       "106                Gostaria de ligar para um atendente   \n",
       "71      Quero fazer uma alteração de limite de crédito   \n",
       "349                        Quero fazer refinanciamento   \n",
       "300                                 Como criar a senha   \n",
       "57   Gostaria de saber se consigo alterar o endereç...   \n",
       "121     Consta que tenho um débito em aberto com vocês   \n",
       "86                      Fazer instalação do aplicativo   \n",
       "\n",
       "                       intent  \n",
       "256    realizar_transferencia  \n",
       "153           desbloquear_app  \n",
       "102         conhecer_contatos  \n",
       "106         conhecer_contatos  \n",
       "71      alterar_limite_cartao  \n",
       "349          solicitar_acordo  \n",
       "300             alterar_senha  \n",
       "57   alterar_dados_cadastrais  \n",
       "121           conhecer_divida  \n",
       "86                 baixar_app  "
      ]
     },
     "execution_count": 5,
     "metadata": {},
     "output_type": "execute_result"
    }
   ],
   "source": [
    "examples.sample(10)"
   ]
  },
  {
   "cell_type": "code",
   "execution_count": 6,
   "metadata": {},
   "outputs": [
    {
     "data": {
      "text/html": [
       "<div>\n",
       "<style scoped>\n",
       "    .dataframe tbody tr th:only-of-type {\n",
       "        vertical-align: middle;\n",
       "    }\n",
       "\n",
       "    .dataframe tbody tr th {\n",
       "        vertical-align: top;\n",
       "    }\n",
       "\n",
       "    .dataframe thead th {\n",
       "        text-align: right;\n",
       "    }\n",
       "</style>\n",
       "<table border=\"1\" class=\"dataframe\">\n",
       "  <thead>\n",
       "    <tr style=\"text-align: right;\">\n",
       "      <th></th>\n",
       "      <th>intent</th>\n",
       "      <th>response</th>\n",
       "    </tr>\n",
       "  </thead>\n",
       "  <tbody>\n",
       "    <tr>\n",
       "      <th>9</th>\n",
       "      <td>desbloquear_cartao</td>\n",
       "      <td>Para desbloquear seu cartão, basta você entrar...</td>\n",
       "    </tr>\n",
       "    <tr>\n",
       "      <th>8</th>\n",
       "      <td>desbloquear_app</td>\n",
       "      <td>Ok, para desbloquear você precisa confirmar se...</td>\n",
       "    </tr>\n",
       "    <tr>\n",
       "      <th>19</th>\n",
       "      <td>solicitar_acordo</td>\n",
       "      <td>Ok, você pode solicitar um acordo pelo Aplicat...</td>\n",
       "    </tr>\n",
       "    <tr>\n",
       "      <th>6</th>\n",
       "      <td>conhecer_divida</td>\n",
       "      <td>Humm... Para saber sua dívida, você precisa ac...</td>\n",
       "    </tr>\n",
       "    <tr>\n",
       "      <th>11</th>\n",
       "      <td>falar_atendente</td>\n",
       "      <td>Desculpa se não consegui te ajudar, vou te pas...</td>\n",
       "    </tr>\n",
       "    <tr>\n",
       "      <th>0</th>\n",
       "      <td>abrir_conta</td>\n",
       "      <td>Legal! Fico feliz por saber que quer abrir uma...</td>\n",
       "    </tr>\n",
       "    <tr>\n",
       "      <th>14</th>\n",
       "      <td>rastrear_cartao</td>\n",
       "      <td>Ok, preciso que me fale seu CPF para que eu po...</td>\n",
       "    </tr>\n",
       "    <tr>\n",
       "      <th>18</th>\n",
       "      <td>relatar_problemas_app</td>\n",
       "      <td>Está com problemas no App?! Você pode contatar...</td>\n",
       "    </tr>\n",
       "    <tr>\n",
       "      <th>1</th>\n",
       "      <td>acessar_conta</td>\n",
       "      <td>Ok! Para acessar a sua conta, você precisa bai...</td>\n",
       "    </tr>\n",
       "    <tr>\n",
       "      <th>12</th>\n",
       "      <td>liberar_dispositivo</td>\n",
       "      <td>Claro! Podemos liberar seu dispositivo. Para i...</td>\n",
       "    </tr>\n",
       "  </tbody>\n",
       "</table>\n",
       "</div>"
      ],
      "text/plain": [
       "                   intent                                           response\n",
       "9      desbloquear_cartao  Para desbloquear seu cartão, basta você entrar...\n",
       "8         desbloquear_app  Ok, para desbloquear você precisa confirmar se...\n",
       "19       solicitar_acordo  Ok, você pode solicitar um acordo pelo Aplicat...\n",
       "6         conhecer_divida  Humm... Para saber sua dívida, você precisa ac...\n",
       "11        falar_atendente  Desculpa se não consegui te ajudar, vou te pas...\n",
       "0             abrir_conta  Legal! Fico feliz por saber que quer abrir uma...\n",
       "14        rastrear_cartao  Ok, preciso que me fale seu CPF para que eu po...\n",
       "18  relatar_problemas_app  Está com problemas no App?! Você pode contatar...\n",
       "1           acessar_conta  Ok! Para acessar a sua conta, você precisa bai...\n",
       "12    liberar_dispositivo  Claro! Podemos liberar seu dispositivo. Para i..."
      ]
     },
     "execution_count": 6,
     "metadata": {},
     "output_type": "execute_result"
    }
   ],
   "source": [
    "responses.sample(10)"
   ]
  },
  {
   "cell_type": "markdown",
   "metadata": {},
   "source": [
    "### 3.2 Intents Distribution"
   ]
  },
  {
   "cell_type": "code",
   "execution_count": 9,
   "metadata": {},
   "outputs": [
    {
     "name": "stdout",
     "output_type": "stream",
     "text": [
      "Number of different intents: 24\n",
      "Number of phrases: 434\n",
      "Median number of phrases: 16.5\n"
     ]
    }
   ],
   "source": [
    "# count the number of phrases per intent\n",
    "intents_count = examples.intent.value_counts()\n",
    "\n",
    "print('Number of different intents:', len(intents_count.index))\n",
    "print('Number of phrases:', intents_count.sum())\n",
    "print('Median number of phrases:', intents_count.median())"
   ]
  },
  {
   "cell_type": "code",
   "execution_count": null,
   "metadata": {},
   "outputs": [
    {
     "data": {
      "image/png": "[encoded data removed]",
      "text/plain": [
       "<Figure size 720x720 with 1 Axes>"
      ]
     },
     "metadata": {
      "needs_background": "light"
     },
     "output_type": "display_data"
    }
   ],
   "source": [
    "intents_count.sort_index(ascending = False).plot.barh(figsize = (10, 10))\n",
    "plt.axvline(intents_count.median(), color = 'darkorange', linewidth = 2)\n",
    "plt.title('Intents count', fontsize = 16)\n",
    "plt.xlabel('Count', fontsize = 12)\n",
    "plt.ylabel('Intents', fontsize = 12)\n",
    "plt.legend(['Median'])\n",
    "plt.show()"
   ]
  },
  {
   "cell_type": "markdown",
   "metadata": {},
   "source": [
    "How is possible to note the dataset has unbalanced intents with different numbers of examples. So is necessary to balance our dataset with some techniques. In this case, we will use the technique of oversampling and data augmentation to generate more examples. Oversampling will be used when we will make the train data."
   ]
  },
  {
   "cell_type": "markdown",
   "metadata": {},
   "source": [
    "### 3.3 Phrases Distribution"
   ]
  },
  {
   "cell_type": "code",
   "execution_count": null,
   "metadata": {},
   "outputs": [
    {
     "data": {
      "text/plain": [
       "O que fazer para liberar aplicativo                         4\n",
       "Estou tentando desbloquear meu aplicativo no meu celular    2\n",
       "Aplicativo está bloqueado                                   2\n",
       "Quero alterar o limite do meu cartão de crédito             2\n",
       "Quero desbloquear meu aplicativo                            2\n",
       "                                                           ..\n",
       "Qual o limite que vai vir no cartão?                        1\n",
       "Quero saber quanto posso gastar no cartão                   1\n",
       "Saber quanto tenho de limite                                1\n",
       "Quero saber qual é meu limite                               1\n",
       "Saber desconto do empréstimo                                1\n",
       "Name: phrase, Length: 423, dtype: int64"
      ]
     },
     "execution_count": 8,
     "metadata": {},
     "output_type": "execute_result"
    }
   ],
   "source": [
    "examples.phrase.value_counts()"
   ]
  },
  {
   "cell_type": "code",
   "execution_count": null,
   "metadata": {},
   "outputs": [
    {
     "data": {
      "text/html": [
       "<div>\n",
       "<style scoped>\n",
       "    .dataframe tbody tr th:only-of-type {\n",
       "        vertical-align: middle;\n",
       "    }\n",
       "\n",
       "    .dataframe tbody tr th {\n",
       "        vertical-align: top;\n",
       "    }\n",
       "\n",
       "    .dataframe thead th {\n",
       "        text-align: right;\n",
       "    }\n",
       "</style>\n",
       "<table border=\"1\" class=\"dataframe\">\n",
       "  <thead>\n",
       "    <tr style=\"text-align: right;\">\n",
       "      <th></th>\n",
       "      <th>phrase</th>\n",
       "      <th>target</th>\n",
       "    </tr>\n",
       "  </thead>\n",
       "  <tbody>\n",
       "    <tr>\n",
       "      <th>150</th>\n",
       "      <td>O que fazer para liberar aplicativo</td>\n",
       "      <td>desbloquear_app</td>\n",
       "    </tr>\n",
       "    <tr>\n",
       "      <th>158</th>\n",
       "      <td>O que fazer para liberar aplicativo</td>\n",
       "      <td>desbloquear_app</td>\n",
       "    </tr>\n",
       "    <tr>\n",
       "      <th>215</th>\n",
       "      <td>O que fazer para liberar aplicativo</td>\n",
       "      <td>liberar_dispositivo</td>\n",
       "    </tr>\n",
       "    <tr>\n",
       "      <th>331</th>\n",
       "      <td>O que fazer para liberar aplicativo</td>\n",
       "      <td>relatar_problemas_app</td>\n",
       "    </tr>\n",
       "  </tbody>\n",
       "</table>\n",
       "</div>"
      ],
      "text/plain": [
       "                                  phrase                 target\n",
       "150  O que fazer para liberar aplicativo        desbloquear_app\n",
       "158  O que fazer para liberar aplicativo        desbloquear_app\n",
       "215  O que fazer para liberar aplicativo    liberar_dispositivo\n",
       "331  O que fazer para liberar aplicativo  relatar_problemas_app"
      ]
     },
     "execution_count": 9,
     "metadata": {},
     "output_type": "execute_result"
    }
   ],
   "source": [
    "examples.query('phrase == \"O que fazer para liberar aplicativo\"')"
   ]
  },
  {
   "cell_type": "markdown",
   "metadata": {},
   "source": [
    "As we can see above, we have identical phrases with different intents. This is not a good situation because it can confuse our model. We will drop similar phrases. We need to drop these rows."
   ]
  },
  {
   "cell_type": "markdown",
   "metadata": {},
   "source": [
    "### 3.4 Most used words"
   ]
  },
  {
   "cell_type": "code",
   "execution_count": null,
   "metadata": {},
   "outputs": [
    {
     "data": {
      "image/png": "[encoded data removed]",
      "text/plain": [
       "<Figure size 720x360 with 1 Axes>"
      ]
     },
     "metadata": {
      "needs_background": "light"
     },
     "output_type": "display_data"
    }
   ],
   "source": [
    "# listing words\n",
    "words = examples.phrase.str.lower().apply(str.split).sum()\n",
    "\n",
    "# reading portuguese stopwords\n",
    "stopwords = open('../data/external/stopwords.csv', 'r').read().split('\\n')\n",
    "\n",
    "# removing stopwords\n",
    "words = pd.Series(filter(lambda word: word not in stopwords, words))\n",
    "\n",
    "top_ten_words = words.value_counts().head(10)\n",
    "top_ten_words.plot.barh(figsize = (10, 5)).invert_yaxis()\n",
    "plt.title('Top 10 used words', fontsize = 16)\n",
    "plt.xlabel('Count', fontsize = 12)\n",
    "plt.ylabel('Words', fontsize = 12)\n",
    "plt.show()"
   ]
  },
  {
   "cell_type": "markdown",
   "metadata": {},
   "source": [
    "The portuguese verb 'Quero' (Want) is the most user word in the dataset. So we can infer that the majority of intents are about Want something such as credit card, bills and other stuff."
   ]
  },
  {
   "cell_type": "code",
   "execution_count": null,
   "metadata": {},
   "outputs": [
    {
     "data": {
      "image/png": "[encoded data removed]",
      "text/plain": [
       "<Figure size 720x360 with 1 Axes>"
      ]
     },
     "metadata": {
      "needs_background": "light"
     },
     "output_type": "display_data"
    }
   ],
   "source": [
    "def word_frequency(word):\n",
    "    return examples.phrase.str.lower().apply(lambda message: word in message).sum() / examples.shape[0]\n",
    "    \n",
    "top_ten_words_frequency = top_ten_words.index.to_series().apply(word_frequency)\n",
    "\n",
    "top_ten_words_frequency.plot.barh(figsize = (10, 5)).invert_yaxis()\n",
    "plt.title('Top 10 used words frequency in messages', fontsize = 16)\n",
    "plt.xlabel('Count', fontsize = 12)\n",
    "plt.ylabel('Words', fontsize = 12)\n",
    "plt.show()"
   ]
  },
  {
   "cell_type": "markdown",
   "metadata": {},
   "source": [
    "The verb 'Quero' (Want) appear in 26% of the dataset messages, followed by 'Conta' (Account) and 'Cartão' (Credit Card)."
   ]
  },
  {
   "cell_type": "markdown",
   "metadata": {},
   "source": [
    "### 3.5 Sentiment Analysis\n",
    "\n",
    "This dataset contains several tweets in Portuguese tagged as positive, negative or neutral. This dataset will be used to train a sentiment analysis model.\n",
    "\n",
    "We have three classes of sentiment:\n",
    "*  positive: messages that are positive, like \"I am happy\";\n",
    "*  negative: messages that are negative, like \"I am sad\";\n",
    "*  neutral: messages that are neutral, like \"I am not sure\"."
   ]
  },
  {
   "cell_type": "code",
   "execution_count": null,
   "metadata": {},
   "outputs": [
    {
     "data": {
      "text/html": [
       "<div>\n",
       "<style scoped>\n",
       "    .dataframe tbody tr th:only-of-type {\n",
       "        vertical-align: middle;\n",
       "    }\n",
       "\n",
       "    .dataframe tbody tr th {\n",
       "        vertical-align: top;\n",
       "    }\n",
       "\n",
       "    .dataframe thead th {\n",
       "        text-align: right;\n",
       "    }\n",
       "</style>\n",
       "<table border=\"1\" class=\"dataframe\">\n",
       "  <thead>\n",
       "    <tr style=\"text-align: right;\">\n",
       "      <th></th>\n",
       "      <th>phrase</th>\n",
       "      <th>sentiment</th>\n",
       "    </tr>\n",
       "  </thead>\n",
       "  <tbody>\n",
       "    <tr>\n",
       "      <th>61472</th>\n",
       "      <td>Ja nem sei o que eu faço da minha vida :(</td>\n",
       "      <td>negative</td>\n",
       "    </tr>\n",
       "    <tr>\n",
       "      <th>18967</th>\n",
       "      <td>@UncleDeathMono vamos sim, só me chamar :)</td>\n",
       "      <td>positive</td>\n",
       "    </tr>\n",
       "    <tr>\n",
       "      <th>91895</th>\n",
       "      <td>Você sabia? #curiosidade Caso Ciro Gomes vença...</td>\n",
       "      <td>neutral</td>\n",
       "    </tr>\n",
       "    <tr>\n",
       "      <th>28418</th>\n",
       "      <td>Ja devia de saber que tens papos com todas :))</td>\n",
       "      <td>positive</td>\n",
       "    </tr>\n",
       "    <tr>\n",
       "      <th>51921</th>\n",
       "      <td>Caralho, eu tô muito assustada. E pensar que m...</td>\n",
       "      <td>negative</td>\n",
       "    </tr>\n",
       "    <tr>\n",
       "      <th>35920</th>\n",
       "      <td>Anjo da minha vida :( https://t.co/K2pXx7Yx7X</td>\n",
       "      <td>negative</td>\n",
       "    </tr>\n",
       "    <tr>\n",
       "      <th>4793</th>\n",
       "      <td>@maldsuado *andava a apanhar :)</td>\n",
       "      <td>positive</td>\n",
       "    </tr>\n",
       "    <tr>\n",
       "      <th>21085</th>\n",
       "      <td>mais 1 mês sem nenhum real no bolso comendo o ...</td>\n",
       "      <td>positive</td>\n",
       "    </tr>\n",
       "    <tr>\n",
       "      <th>35632</th>\n",
       "      <td>Recebi um áudio da minha vó dizendo que tá mui...</td>\n",
       "      <td>negative</td>\n",
       "    </tr>\n",
       "    <tr>\n",
       "      <th>62188</th>\n",
       "      <td>oi @hyuckpetit te amo :((</td>\n",
       "      <td>negative</td>\n",
       "    </tr>\n",
       "  </tbody>\n",
       "</table>\n",
       "</div>"
      ],
      "text/plain": [
       "                                                  phrase sentiment\n",
       "61472          Ja nem sei o que eu faço da minha vida :(  negative\n",
       "18967         @UncleDeathMono vamos sim, só me chamar :)  positive\n",
       "91895  Você sabia? #curiosidade Caso Ciro Gomes vença...   neutral\n",
       "28418     Ja devia de saber que tens papos com todas :))  positive\n",
       "51921  Caralho, eu tô muito assustada. E pensar que m...  negative\n",
       "35920      Anjo da minha vida :( https://t.co/K2pXx7Yx7X  negative\n",
       "4793                     @maldsuado *andava a apanhar :)  positive\n",
       "21085  mais 1 mês sem nenhum real no bolso comendo o ...  positive\n",
       "35632  Recebi um áudio da minha vó dizendo que tá mui...  negative\n",
       "62188                          oi @hyuckpetit te amo :((  negative"
      ]
     },
     "execution_count": 184,
     "metadata": {},
     "output_type": "execute_result"
    }
   ],
   "source": [
    "sentiment_analysis.head(10)"
   ]
  },
  {
   "cell_type": "code",
   "execution_count": null,
   "metadata": {},
   "outputs": [
    {
     "data": {
      "image/png": "[encoded data removed]",
      "text/plain": [
       "<Figure size 720x360 with 1 Axes>"
      ]
     },
     "metadata": {},
     "output_type": "display_data"
    }
   ],
   "source": [
    "sentiment_analysis.sentiment.value_counts().plot.pie(figsize = (10, 5), colors = ['teal', 'pink', 'lightgrey'])\n",
    "plt.title('Sentiment analysis', fontsize = 16)\n",
    "plt.ylabel('')\n",
    "plt.show()"
   ]
  },
  {
   "cell_type": "markdown",
   "metadata": {},
   "source": [
    "These classes are balanced, they have the same number of examples. This is a good sign, we don't need to balance our dataset."
   ]
  },
  {
   "cell_type": "code",
   "execution_count": null,
   "metadata": {},
   "outputs": [
    {
     "data": {
      "text/html": [
       "<div>\n",
       "<style scoped>\n",
       "    .dataframe tbody tr th:only-of-type {\n",
       "        vertical-align: middle;\n",
       "    }\n",
       "\n",
       "    .dataframe tbody tr th {\n",
       "        vertical-align: top;\n",
       "    }\n",
       "\n",
       "    .dataframe thead th {\n",
       "        text-align: right;\n",
       "    }\n",
       "</style>\n",
       "<table border=\"1\" class=\"dataframe\">\n",
       "  <thead>\n",
       "    <tr style=\"text-align: right;\">\n",
       "      <th></th>\n",
       "      <th>phrase</th>\n",
       "      <th>sentiment</th>\n",
       "    </tr>\n",
       "  </thead>\n",
       "  <tbody>\n",
       "    <tr>\n",
       "      <th>1</th>\n",
       "      <td>@UncleDeathMono vamos sim, só me chamar :)</td>\n",
       "      <td>positive</td>\n",
       "    </tr>\n",
       "    <tr>\n",
       "      <th>6</th>\n",
       "      <td>@maldsuado *andava a apanhar :)</td>\n",
       "      <td>positive</td>\n",
       "    </tr>\n",
       "    <tr>\n",
       "      <th>9</th>\n",
       "      <td>oi @hyuckpetit te amo :((</td>\n",
       "      <td>negative</td>\n",
       "    </tr>\n",
       "    <tr>\n",
       "      <th>10</th>\n",
       "      <td>@caioumrb @DantonTT aqui :) https://t.co/m6t5J...</td>\n",
       "      <td>positive</td>\n",
       "    </tr>\n",
       "    <tr>\n",
       "      <th>11</th>\n",
       "      <td>@MohMedeiros @jhonhenriquers pessoas invisívei...</td>\n",
       "      <td>negative</td>\n",
       "    </tr>\n",
       "    <tr>\n",
       "      <th>...</th>\n",
       "      <td>...</td>\n",
       "      <td>...</td>\n",
       "    </tr>\n",
       "    <tr>\n",
       "      <th>99373</th>\n",
       "      <td>@larissnobrega aí se chegar num ponto, tipo no...</td>\n",
       "      <td>positive</td>\n",
       "    </tr>\n",
       "    <tr>\n",
       "      <th>99376</th>\n",
       "      <td>@FuckLagolas To precisando.. :)</td>\n",
       "      <td>positive</td>\n",
       "    </tr>\n",
       "    <tr>\n",
       "      <th>99378</th>\n",
       "      <td>@columbineshots queria ser :(</td>\n",
       "      <td>negative</td>\n",
       "    </tr>\n",
       "    <tr>\n",
       "      <th>99382</th>\n",
       "      <td>&amp;gt;@brdezoito Fabricante de armas em alta na ...</td>\n",
       "      <td>neutral</td>\n",
       "    </tr>\n",
       "    <tr>\n",
       "      <th>99383</th>\n",
       "      <td>@oSProfanos @entojo @CarolSchicowski Pois é, i...</td>\n",
       "      <td>positive</td>\n",
       "    </tr>\n",
       "  </tbody>\n",
       "</table>\n",
       "<p>38094 rows × 2 columns</p>\n",
       "</div>"
      ],
      "text/plain": [
       "                                                  phrase sentiment\n",
       "1             @UncleDeathMono vamos sim, só me chamar :)  positive\n",
       "6                        @maldsuado *andava a apanhar :)  positive\n",
       "9                              oi @hyuckpetit te amo :((  negative\n",
       "10     @caioumrb @DantonTT aqui :) https://t.co/m6t5J...  positive\n",
       "11     @MohMedeiros @jhonhenriquers pessoas invisívei...  negative\n",
       "...                                                  ...       ...\n",
       "99373  @larissnobrega aí se chegar num ponto, tipo no...  positive\n",
       "99376                    @FuckLagolas To precisando.. :)  positive\n",
       "99378                      @columbineshots queria ser :(  negative\n",
       "99382  &gt;@brdezoito Fabricante de armas em alta na ...   neutral\n",
       "99383  @oSProfanos @entojo @CarolSchicowski Pois é, i...  positive\n",
       "\n",
       "[38094 rows x 2 columns]"
      ]
     },
     "execution_count": 191,
     "metadata": {},
     "output_type": "execute_result"
    }
   ],
   "source": [
    "sentiment_analysis[sentiment_analysis.phrase.str.contains('@')]#.sample(20)"
   ]
  },
  {
   "cell_type": "markdown",
   "metadata": {},
   "source": [
    "Tweets contain some words with '@' and '#' characters. These characters are used to tag the tweets as a user mention or a hashtag. We need to drop these words. In addition, some words are not useful, like '&gt' and 'https' (URL). We need to drop these words.\n",
    "\n",
    "We will do it to minimize the number of words in our train dataset."
   ]
  },
  {
   "cell_type": "code",
   "execution_count": null,
   "metadata": {},
   "outputs": [],
   "source": []
  },
  {
   "cell_type": "code",
   "execution_count": null,
   "metadata": {},
   "outputs": [],
   "source": []
  },
  {
   "cell_type": "code",
   "execution_count": null,
   "metadata": {},
   "outputs": [],
   "source": []
  },
  {
   "cell_type": "code",
   "execution_count": null,
   "metadata": {},
   "outputs": [],
   "source": []
  },
  {
   "cell_type": "code",
   "execution_count": 50,
   "metadata": {},
   "outputs": [],
   "source": [
    "ph = pd.read_parquet('../data/raw/sentiments/raw-phrase.parquet')\n",
    "tg = pd.read_parquet('../data/raw/sentiments/raw-target.parquet')\n",
    "\n",
    "data = pd.concat([ph, tg], axis = 1)"
   ]
  },
  {
   "cell_type": "code",
   "execution_count": 51,
   "metadata": {},
   "outputs": [
    {
     "data": {
      "text/html": [
       "<div>\n",
       "<style scoped>\n",
       "    .dataframe tbody tr th:only-of-type {\n",
       "        vertical-align: middle;\n",
       "    }\n",
       "\n",
       "    .dataframe tbody tr th {\n",
       "        vertical-align: top;\n",
       "    }\n",
       "\n",
       "    .dataframe thead th {\n",
       "        text-align: right;\n",
       "    }\n",
       "</style>\n",
       "<table border=\"1\" class=\"dataframe\">\n",
       "  <thead>\n",
       "    <tr style=\"text-align: right;\">\n",
       "      <th></th>\n",
       "      <th>phrase</th>\n",
       "      <th>target</th>\n",
       "    </tr>\n",
       "  </thead>\n",
       "  <tbody>\n",
       "    <tr>\n",
       "      <th>0</th>\n",
       "      <td>Ja nem sei o que eu faço da minha vida :(</td>\n",
       "      <td>negative</td>\n",
       "    </tr>\n",
       "    <tr>\n",
       "      <th>1</th>\n",
       "      <td>@UncleDeathMono vamos sim, só me chamar :)</td>\n",
       "      <td>positive</td>\n",
       "    </tr>\n",
       "    <tr>\n",
       "      <th>2</th>\n",
       "      <td>Você sabia? #curiosidade Caso Ciro Gomes vença...</td>\n",
       "      <td>neutral</td>\n",
       "    </tr>\n",
       "    <tr>\n",
       "      <th>3</th>\n",
       "      <td>Ja devia de saber que tens papos com todas :))</td>\n",
       "      <td>positive</td>\n",
       "    </tr>\n",
       "    <tr>\n",
       "      <th>4</th>\n",
       "      <td>Caralho, eu tô muito assustada. E pensar que m...</td>\n",
       "      <td>negative</td>\n",
       "    </tr>\n",
       "    <tr>\n",
       "      <th>...</th>\n",
       "      <td>...</td>\n",
       "      <td>...</td>\n",
       "    </tr>\n",
       "    <tr>\n",
       "      <th>99379</th>\n",
       "      <td>ah ele não escolheu jogar com a kassandra tô t...</td>\n",
       "      <td>negative</td>\n",
       "    </tr>\n",
       "    <tr>\n",
       "      <th>99380</th>\n",
       "      <td>Dólar sobe quase 1,5% e vai a R$ 4,15 com reaç...</td>\n",
       "      <td>neutral</td>\n",
       "    </tr>\n",
       "    <tr>\n",
       "      <th>99381</th>\n",
       "      <td>Tem uma palestra na unisinos que o ingresso cu...</td>\n",
       "      <td>positive</td>\n",
       "    </tr>\n",
       "    <tr>\n",
       "      <th>99382</th>\n",
       "      <td>&amp;gt;@brdezoito Fabricante de armas em alta na ...</td>\n",
       "      <td>neutral</td>\n",
       "    </tr>\n",
       "    <tr>\n",
       "      <th>99383</th>\n",
       "      <td>@oSProfanos @entojo @CarolSchicowski Pois é, i...</td>\n",
       "      <td>positive</td>\n",
       "    </tr>\n",
       "  </tbody>\n",
       "</table>\n",
       "<p>99384 rows × 2 columns</p>\n",
       "</div>"
      ],
      "text/plain": [
       "                                                  phrase    target\n",
       "0              Ja nem sei o que eu faço da minha vida :(  negative\n",
       "1             @UncleDeathMono vamos sim, só me chamar :)  positive\n",
       "2      Você sabia? #curiosidade Caso Ciro Gomes vença...   neutral\n",
       "3         Ja devia de saber que tens papos com todas :))  positive\n",
       "4      Caralho, eu tô muito assustada. E pensar que m...  negative\n",
       "...                                                  ...       ...\n",
       "99379  ah ele não escolheu jogar com a kassandra tô t...  negative\n",
       "99380  Dólar sobe quase 1,5% e vai a R$ 4,15 com reaç...   neutral\n",
       "99381  Tem uma palestra na unisinos que o ingresso cu...  positive\n",
       "99382  &gt;@brdezoito Fabricante de armas em alta na ...   neutral\n",
       "99383  @oSProfanos @entojo @CarolSchicowski Pois é, i...  positive\n",
       "\n",
       "[99384 rows x 2 columns]"
      ]
     },
     "execution_count": 51,
     "metadata": {},
     "output_type": "execute_result"
    }
   ],
   "source": [
    "data"
   ]
  },
  {
   "cell_type": "code",
   "execution_count": 43,
   "metadata": {},
   "outputs": [],
   "source": [
    "palavras = pd.read_csv('https://raw.githubusercontent.com/pythonprobr/palavras/master/palavras.txt', encoding = 'utf-8')"
   ]
  },
  {
   "cell_type": "code",
   "execution_count": 45,
   "metadata": {},
   "outputs": [],
   "source": [
    "palavras = list(palavras.values) + ['a']"
   ]
  },
  {
   "cell_type": "code",
   "execution_count": 53,
   "metadata": {},
   "outputs": [
    {
     "data": {
      "text/plain": [
       "False"
      ]
     },
     "execution_count": 53,
     "metadata": {},
     "output_type": "execute_result"
    }
   ],
   "source": [
    "'$' in palavras"
   ]
  },
  {
   "cell_type": "code",
   "execution_count": null,
   "metadata": {},
   "outputs": [],
   "source": []
  }
 ],
 "metadata": {
  "interpreter": {
   "hash": "8854ffc1acb418bd20ac8278d78f558b17f274f809badc935fbf57036acb6f10"
  },
  "kernelspec": {
   "display_name": "Python 3.8.10 ('env': venv)",
   "language": "python",
   "name": "python3"
  },
  "language_info": {
   "codemirror_mode": {
    "name": "ipython",
    "version": 3
   },
   "file_extension": ".py",
   "mimetype": "text/x-python",
   "name": "python",
   "nbconvert_exporter": "python",
   "pygments_lexer": "ipython3",
   "version": "3.8.10"
  },
  "orig_nbformat": 4
 },
 "nbformat": 4,
 "nbformat_minor": 2
}
