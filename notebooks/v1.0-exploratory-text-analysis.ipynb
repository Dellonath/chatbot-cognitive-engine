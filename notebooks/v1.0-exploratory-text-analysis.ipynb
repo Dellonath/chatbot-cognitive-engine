{
 "cells": [
  {
   "cell_type": "markdown",
   "metadata": {},
   "source": [
    "# Exploratory Text Analysis\n",
    "\n",
    "In this notebook, we will explore the text data of the dataset, Checking the frequency of messages, intents and words. Will be a basic text analysis."
   ]
  },
  {
   "cell_type": "markdown",
   "metadata": {},
   "source": [
    "## 1. Import"
   ]
  },
  {
   "cell_type": "code",
   "execution_count": 1,
   "metadata": {},
   "outputs": [],
   "source": [
    "import pandas as pd \n",
    "import matplotlib.pyplot as plt\n",
    "\n",
    "%matplotlib inline"
   ]
  },
  {
   "cell_type": "markdown",
   "metadata": {},
   "source": [
    "## 2. Load data"
   ]
  },
  {
   "cell_type": "code",
   "execution_count": 2,
   "metadata": {},
   "outputs": [
    {
     "name": "stdout",
     "output_type": "stream",
     "text": [
      "<class 'pandas.core.frame.DataFrame'>\n",
      "RangeIndex: 434 entries, 0 to 433\n",
      "Data columns (total 2 columns):\n",
      " #   Column  Non-Null Count  Dtype \n",
      "---  ------  --------------  ----- \n",
      " 0   phrase  434 non-null    object\n",
      " 1   intent  434 non-null    object\n",
      "dtypes: object(2)\n",
      "memory usage: 6.9+ KB\n"
     ]
    }
   ],
   "source": [
    "phrase = pd.read_parquet('../data/raw/raw-phrase.parquet')\n",
    "target = pd.read_parquet('../data/raw/raw-target.parquet')\n",
    "\n",
    "data = pd.concat([phrase, target], axis = 1)\t\n",
    "data.info()"
   ]
  },
  {
   "cell_type": "markdown",
   "metadata": {},
   "source": [
    "## 3. Explore data"
   ]
  },
  {
   "cell_type": "markdown",
   "metadata": {},
   "source": [
    "### 3.1 Data overview"
   ]
  },
  {
   "cell_type": "code",
   "execution_count": 3,
   "metadata": {},
   "outputs": [
    {
     "data": {
      "text/html": [
       "<div>\n",
       "<style scoped>\n",
       "    .dataframe tbody tr th:only-of-type {\n",
       "        vertical-align: middle;\n",
       "    }\n",
       "\n",
       "    .dataframe tbody tr th {\n",
       "        vertical-align: top;\n",
       "    }\n",
       "\n",
       "    .dataframe thead th {\n",
       "        text-align: right;\n",
       "    }\n",
       "</style>\n",
       "<table border=\"1\" class=\"dataframe\">\n",
       "  <thead>\n",
       "    <tr style=\"text-align: right;\">\n",
       "      <th></th>\n",
       "      <th>phrase</th>\n",
       "      <th>intent</th>\n",
       "    </tr>\n",
       "  </thead>\n",
       "  <tbody>\n",
       "    <tr>\n",
       "      <th>393</th>\n",
       "      <td>Como solicitar consignado?</td>\n",
       "      <td>quero_emprestimo</td>\n",
       "    </tr>\n",
       "    <tr>\n",
       "      <th>150</th>\n",
       "      <td>O que fazer para liberar aplicativo</td>\n",
       "      <td>desbloquear_app</td>\n",
       "    </tr>\n",
       "    <tr>\n",
       "      <th>261</th>\n",
       "      <td>Realizar uma transferência</td>\n",
       "      <td>realizar_transferencia</td>\n",
       "    </tr>\n",
       "    <tr>\n",
       "      <th>313</th>\n",
       "      <td>Queria recuperar a senha para entrar na minha ...</td>\n",
       "      <td>alterar_senha</td>\n",
       "    </tr>\n",
       "    <tr>\n",
       "      <th>366</th>\n",
       "      <td>Pode me mandar o boleto para pagar</td>\n",
       "      <td>quero_boleto</td>\n",
       "    </tr>\n",
       "    <tr>\n",
       "      <th>81</th>\n",
       "      <td>Não consigo baixar app</td>\n",
       "      <td>baixar_app</td>\n",
       "    </tr>\n",
       "    <tr>\n",
       "      <th>56</th>\n",
       "      <td>Gostaria de saber qual o número do meu celular...</td>\n",
       "      <td>alterar_dados_cadastrais</td>\n",
       "    </tr>\n",
       "    <tr>\n",
       "      <th>378</th>\n",
       "      <td>Quero um cartão de crédito</td>\n",
       "      <td>quero_cartao</td>\n",
       "    </tr>\n",
       "    <tr>\n",
       "      <th>347</th>\n",
       "      <td>Quero solicitar renovação de dívida</td>\n",
       "      <td>solicitar_acordo</td>\n",
       "    </tr>\n",
       "    <tr>\n",
       "      <th>343</th>\n",
       "      <td>Eu quero liquidar minhas dívidas com o banco</td>\n",
       "      <td>solicitar_acordo</td>\n",
       "    </tr>\n",
       "  </tbody>\n",
       "</table>\n",
       "</div>"
      ],
      "text/plain": [
       "                                                phrase  \\\n",
       "393                         Como solicitar consignado?   \n",
       "150                O que fazer para liberar aplicativo   \n",
       "261                         Realizar uma transferência   \n",
       "313  Queria recuperar a senha para entrar na minha ...   \n",
       "366                 Pode me mandar o boleto para pagar   \n",
       "81                              Não consigo baixar app   \n",
       "56   Gostaria de saber qual o número do meu celular...   \n",
       "378                         Quero um cartão de crédito   \n",
       "347                Quero solicitar renovação de dívida   \n",
       "343       Eu quero liquidar minhas dívidas com o banco   \n",
       "\n",
       "                       intent  \n",
       "393          quero_emprestimo  \n",
       "150           desbloquear_app  \n",
       "261    realizar_transferencia  \n",
       "313             alterar_senha  \n",
       "366              quero_boleto  \n",
       "81                 baixar_app  \n",
       "56   alterar_dados_cadastrais  \n",
       "378              quero_cartao  \n",
       "347          solicitar_acordo  \n",
       "343          solicitar_acordo  "
      ]
     },
     "execution_count": 3,
     "metadata": {},
     "output_type": "execute_result"
    }
   ],
   "source": [
    "data.sample(10)"
   ]
  },
  {
   "cell_type": "markdown",
   "metadata": {},
   "source": [
    "### 3.2 Intents Distribution"
   ]
  },
  {
   "cell_type": "code",
   "execution_count": 4,
   "metadata": {},
   "outputs": [
    {
     "name": "stdout",
     "output_type": "stream",
     "text": [
      "Number of different intents: 24\n",
      "Number of phrases: 434\n",
      "Median number of phrases: 16.5\n"
     ]
    }
   ],
   "source": [
    "# count the number of phrases per intent\n",
    "intents_count = data.intent.value_counts()\n",
    "\n",
    "print('Number of different intents:', len(intents_count.index))\n",
    "print('Number of phrases:', intents_count.sum())\n",
    "print('Median number of phrases:', intents_count.median())"
   ]
  },
  {
   "cell_type": "code",
   "execution_count": 5,
   "metadata": {},
   "outputs": [
    {
     "data": {
      "image/png": "[encoded data removed]",
      "text/plain": [
       "<Figure size 720x720 with 1 Axes>"
      ]
     },
     "metadata": {
      "needs_background": "light"
     },
     "output_type": "display_data"
    }
   ],
   "source": [
    "intents_count.sort_index(ascending = False).plot.barh(figsize = (10, 10))\n",
    "plt.axvline(intents_count.median(), color = 'darkorange', linewidth = 2)\n",
    "plt.title('Intents count', fontsize = 16)\n",
    "plt.xlabel('Count', fontsize = 12)\n",
    "plt.ylabel('Intents', fontsize = 12)\n",
    "plt.legend(['Median'])\n",
    "plt.show()"
   ]
  },
  {
   "cell_type": "markdown",
   "metadata": {},
   "source": [
    "How is possible to note the dataset has unbalanced intents with different numbers of examples. So is necessary to balance our dataset with some techniques. In this case, we will use the technique of oversampling and data augmentation to generate more examples. Oversampling will be used when we will make the train data."
   ]
  },
  {
   "cell_type": "markdown",
   "metadata": {},
   "source": [
    "### 3.3 Phrases Distribution"
   ]
  },
  {
   "cell_type": "code",
   "execution_count": 6,
   "metadata": {},
   "outputs": [
    {
     "data": {
      "text/plain": [
       "O que fazer para liberar aplicativo                         4\n",
       "Estou tentando desbloquear meu aplicativo no meu celular    2\n",
       "Aplicativo está bloqueado                                   2\n",
       "Quero alterar o limite do meu cartão de crédito             2\n",
       "Quero desbloquear meu aplicativo                            2\n",
       "                                                           ..\n",
       "Qual o limite que vai vir no cartão?                        1\n",
       "Quero saber quanto posso gastar no cartão                   1\n",
       "Saber quanto tenho de limite                                1\n",
       "Quero saber qual é meu limite                               1\n",
       "Saber desconto do empréstimo                                1\n",
       "Name: phrase, Length: 423, dtype: int64"
      ]
     },
     "execution_count": 6,
     "metadata": {},
     "output_type": "execute_result"
    }
   ],
   "source": [
    "data.phrase.value_counts()"
   ]
  },
  {
   "cell_type": "code",
   "execution_count": 7,
   "metadata": {},
   "outputs": [
    {
     "data": {
      "text/html": [
       "<div>\n",
       "<style scoped>\n",
       "    .dataframe tbody tr th:only-of-type {\n",
       "        vertical-align: middle;\n",
       "    }\n",
       "\n",
       "    .dataframe tbody tr th {\n",
       "        vertical-align: top;\n",
       "    }\n",
       "\n",
       "    .dataframe thead th {\n",
       "        text-align: right;\n",
       "    }\n",
       "</style>\n",
       "<table border=\"1\" class=\"dataframe\">\n",
       "  <thead>\n",
       "    <tr style=\"text-align: right;\">\n",
       "      <th></th>\n",
       "      <th>phrase</th>\n",
       "      <th>intent</th>\n",
       "    </tr>\n",
       "  </thead>\n",
       "  <tbody>\n",
       "    <tr>\n",
       "      <th>150</th>\n",
       "      <td>O que fazer para liberar aplicativo</td>\n",
       "      <td>desbloquear_app</td>\n",
       "    </tr>\n",
       "    <tr>\n",
       "      <th>158</th>\n",
       "      <td>O que fazer para liberar aplicativo</td>\n",
       "      <td>desbloquear_app</td>\n",
       "    </tr>\n",
       "    <tr>\n",
       "      <th>215</th>\n",
       "      <td>O que fazer para liberar aplicativo</td>\n",
       "      <td>liberar_dispositivo</td>\n",
       "    </tr>\n",
       "    <tr>\n",
       "      <th>331</th>\n",
       "      <td>O que fazer para liberar aplicativo</td>\n",
       "      <td>relatar_problemas_app</td>\n",
       "    </tr>\n",
       "  </tbody>\n",
       "</table>\n",
       "</div>"
      ],
      "text/plain": [
       "                                  phrase                 intent\n",
       "150  O que fazer para liberar aplicativo        desbloquear_app\n",
       "158  O que fazer para liberar aplicativo        desbloquear_app\n",
       "215  O que fazer para liberar aplicativo    liberar_dispositivo\n",
       "331  O que fazer para liberar aplicativo  relatar_problemas_app"
      ]
     },
     "execution_count": 7,
     "metadata": {},
     "output_type": "execute_result"
    }
   ],
   "source": [
    "data.query('phrase == \"O que fazer para liberar aplicativo\"')"
   ]
  },
  {
   "cell_type": "markdown",
   "metadata": {},
   "source": [
    "As we can see above, we have identical phrases with different intents. This is not a good situation because it can confuse our model. We will drop similar phrases. We need to drop these rows."
   ]
  },
  {
   "cell_type": "markdown",
   "metadata": {},
   "source": [
    "### 3.4 Most used words"
   ]
  },
  {
   "cell_type": "code",
   "execution_count": 8,
   "metadata": {},
   "outputs": [
    {
     "data": {
      "image/png": "[encoded data removed]",
      "text/plain": [
       "<Figure size 720x360 with 1 Axes>"
      ]
     },
     "metadata": {
      "needs_background": "light"
     },
     "output_type": "display_data"
    }
   ],
   "source": [
    "# listing words\n",
    "words = data.phrase.str.lower().apply(str.split).sum()\n",
    "\n",
    "# reading portuguese stopwords\n",
    "stopwords = open('../data/external/stopwords.csv', 'r').read().split('\\n')\n",
    "\n",
    "# removing stopwords\n",
    "words = pd.Series(filter(lambda word: word not in stopwords, words))\n",
    "\n",
    "top_ten_words = words.value_counts().head(10)\n",
    "top_ten_words.plot.barh(figsize = (10, 5)).invert_yaxis()\n",
    "plt.title('Top 10 used words', fontsize = 16)\n",
    "plt.xlabel('Count', fontsize = 12)\n",
    "plt.ylabel('Words', fontsize = 12)\n",
    "plt.show()"
   ]
  },
  {
   "cell_type": "markdown",
   "metadata": {},
   "source": [
    "The portuguese verb 'Quero' (Want) is the most user word in the dataset. So we can infer that the majority of intents are about Want something such as credit card, bills and other stuff."
   ]
  },
  {
   "cell_type": "code",
   "execution_count": 9,
   "metadata": {},
   "outputs": [
    {
     "data": {
      "image/png": "[encoded data removed]",
      "text/plain": [
       "<Figure size 720x360 with 1 Axes>"
      ]
     },
     "metadata": {
      "needs_background": "light"
     },
     "output_type": "display_data"
    }
   ],
   "source": [
    "def word_frequency(word):\n",
    "    return data.phrase.str.lower().apply(lambda message: word in message).sum() / data.shape[0]\n",
    "    \n",
    "top_ten_words_frequency = top_ten_words.index.to_series().apply(word_frequency)\n",
    "\n",
    "top_ten_words_frequency.plot.barh(figsize = (10, 5)).invert_yaxis()\n",
    "plt.title('Top 10 used words frequency in messages', fontsize = 16)\n",
    "plt.xlabel('Count', fontsize = 12)\n",
    "plt.ylabel('Words', fontsize = 12)\n",
    "plt.show()"
   ]
  },
  {
   "cell_type": "markdown",
   "metadata": {},
   "source": [
    "The verb 'Quero' (Want) appear in 26% of the dataset messages, followed by 'Conta' (Account) and 'Cartão' (Credit Card)."
   ]
  }
 ],
 "metadata": {
  "interpreter": {
   "hash": "cbb88fee6c90709e9d0560a1662d3be175186907ae34bd2e4721762f1aa1c542"
  },
  "kernelspec": {
   "display_name": "Python 3.9.13 ('env': venv)",
   "language": "python",
   "name": "python3"
  },
  "language_info": {
   "codemirror_mode": {
    "name": "ipython",
    "version": 3
   },
   "file_extension": ".py",
   "mimetype": "text/x-python",
   "name": "python",
   "nbconvert_exporter": "python",
   "pygments_lexer": "ipython3",
   "version": "3.9.13"
  },
  "orig_nbformat": 4
 },
 "nbformat": 4,
 "nbformat_minor": 2
}
