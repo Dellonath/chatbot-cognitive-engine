{
 "cells": [
  {
   "cell_type": "markdown",
   "metadata": {},
   "source": [
    "# Exploratory Data Analysis"
   ]
  },
  {
   "cell_type": "markdown",
   "metadata": {},
   "source": [
    "## 1. Import"
   ]
  },
  {
   "cell_type": "code",
   "execution_count": 1,
   "metadata": {},
   "outputs": [],
   "source": [
    "import pandas as pd \n",
    "import matplotlib.pyplot as plt\n",
    "\n",
    "%matplotlib inline"
   ]
  },
  {
   "cell_type": "markdown",
   "metadata": {},
   "source": [
    "## 2. Load data"
   ]
  },
  {
   "cell_type": "code",
   "execution_count": 14,
   "metadata": {},
   "outputs": [
    {
     "name": "stdout",
     "output_type": "stream",
     "text": [
      "<class 'pandas.core.frame.DataFrame'>\n",
      "RangeIndex: 434 entries, 0 to 433\n",
      "Data columns (total 2 columns):\n",
      " #   Column  Non-Null Count  Dtype \n",
      "---  ------  --------------  ----- \n",
      " 0   intent  434 non-null    object\n",
      " 1   phrase  434 non-null    object\n",
      "dtypes: object(2)\n",
      "memory usage: 6.9+ KB\n"
     ]
    }
   ],
   "source": [
    "data = pd.read_parquet('../data/raw/raw.parquet')\n",
    "data.info()"
   ]
  },
  {
   "cell_type": "markdown",
   "metadata": {},
   "source": [
    "## 3. Explore data"
   ]
  },
  {
   "cell_type": "markdown",
   "metadata": {},
   "source": [
    "### 3.1 Data overview"
   ]
  },
  {
   "cell_type": "code",
   "execution_count": 3,
   "metadata": {},
   "outputs": [
    {
     "data": {
      "text/html": [
       "<div>\n",
       "<style scoped>\n",
       "    .dataframe tbody tr th:only-of-type {\n",
       "        vertical-align: middle;\n",
       "    }\n",
       "\n",
       "    .dataframe tbody tr th {\n",
       "        vertical-align: top;\n",
       "    }\n",
       "\n",
       "    .dataframe thead th {\n",
       "        text-align: right;\n",
       "    }\n",
       "</style>\n",
       "<table border=\"1\" class=\"dataframe\">\n",
       "  <thead>\n",
       "    <tr style=\"text-align: right;\">\n",
       "      <th></th>\n",
       "      <th>intent</th>\n",
       "      <th>phrase</th>\n",
       "    </tr>\n",
       "  </thead>\n",
       "  <tbody>\n",
       "    <tr>\n",
       "      <th>114</th>\n",
       "      <td>conhecer_contatos</td>\n",
       "      <td>Saber em qual cidade tem o banco</td>\n",
       "    </tr>\n",
       "    <tr>\n",
       "      <th>150</th>\n",
       "      <td>desbloquear_app</td>\n",
       "      <td>O que fazer para liberar aplicativo</td>\n",
       "    </tr>\n",
       "    <tr>\n",
       "      <th>420</th>\n",
       "      <td>quero_extrato_emprestimo</td>\n",
       "      <td>Quanto eu devo de empréstimo?</td>\n",
       "    </tr>\n",
       "    <tr>\n",
       "      <th>152</th>\n",
       "      <td>desbloquear_app</td>\n",
       "      <td>Preciso do desbloqueio do acesso ao App no cel...</td>\n",
       "    </tr>\n",
       "    <tr>\n",
       "      <th>55</th>\n",
       "      <td>alterar_dados_cadastrais</td>\n",
       "      <td>Quero fazer atualização cadastral</td>\n",
       "    </tr>\n",
       "    <tr>\n",
       "      <th>104</th>\n",
       "      <td>conhecer_contatos</td>\n",
       "      <td>o auto atendimento está funcionando?</td>\n",
       "    </tr>\n",
       "    <tr>\n",
       "      <th>28</th>\n",
       "      <td>acessar_conta</td>\n",
       "      <td>Como entrar na conta?</td>\n",
       "    </tr>\n",
       "    <tr>\n",
       "      <th>224</th>\n",
       "      <td>quero_quitar_emprestimo</td>\n",
       "      <td>Quero quitar o empréstimo</td>\n",
       "    </tr>\n",
       "    <tr>\n",
       "      <th>250</th>\n",
       "      <td>rastrear_cartao</td>\n",
       "      <td>Quando chegará o cartão?</td>\n",
       "    </tr>\n",
       "    <tr>\n",
       "      <th>381</th>\n",
       "      <td>quero_cartao</td>\n",
       "      <td>Tem como eu conseguir um cartão de crédito?</td>\n",
       "    </tr>\n",
       "    <tr>\n",
       "      <th>125</th>\n",
       "      <td>conhecer_divida</td>\n",
       "      <td>Quero saber meus débitos</td>\n",
       "    </tr>\n",
       "    <tr>\n",
       "      <th>228</th>\n",
       "      <td>quero_quitar_emprestimo</td>\n",
       "      <td>Qual valor de quitação do meu empréstimo</td>\n",
       "    </tr>\n",
       "    <tr>\n",
       "      <th>62</th>\n",
       "      <td>alterar_limite_cartao</td>\n",
       "      <td>Quero alterar o limite do meu cartão de crédito</td>\n",
       "    </tr>\n",
       "    <tr>\n",
       "      <th>374</th>\n",
       "      <td>quero_boleto</td>\n",
       "      <td>Gostaria de saber qual a data vence fatura</td>\n",
       "    </tr>\n",
       "    <tr>\n",
       "      <th>376</th>\n",
       "      <td>quero_boleto</td>\n",
       "      <td>Quero pagar meu cartão</td>\n",
       "    </tr>\n",
       "    <tr>\n",
       "      <th>377</th>\n",
       "      <td>quero_cartao</td>\n",
       "      <td>Solicitar cartão de crédito</td>\n",
       "    </tr>\n",
       "    <tr>\n",
       "      <th>236</th>\n",
       "      <td>quero_quitar_emprestimo</td>\n",
       "      <td>Antecipar parcelas do empréstimo</td>\n",
       "    </tr>\n",
       "    <tr>\n",
       "      <th>106</th>\n",
       "      <td>conhecer_contatos</td>\n",
       "      <td>Gostaria de ligar para um atendente</td>\n",
       "    </tr>\n",
       "    <tr>\n",
       "      <th>117</th>\n",
       "      <td>conhecer_divida</td>\n",
       "      <td>Estou com débitos aberto no banco Banco Magnus?</td>\n",
       "    </tr>\n",
       "    <tr>\n",
       "      <th>354</th>\n",
       "      <td>solicitar_acordo</td>\n",
       "      <td>Gostaria de refinanciar consignados</td>\n",
       "    </tr>\n",
       "  </tbody>\n",
       "</table>\n",
       "</div>"
      ],
      "text/plain": [
       "                       intent  \\\n",
       "114         conhecer_contatos   \n",
       "150           desbloquear_app   \n",
       "420  quero_extrato_emprestimo   \n",
       "152           desbloquear_app   \n",
       "55   alterar_dados_cadastrais   \n",
       "104         conhecer_contatos   \n",
       "28              acessar_conta   \n",
       "224   quero_quitar_emprestimo   \n",
       "250           rastrear_cartao   \n",
       "381              quero_cartao   \n",
       "125           conhecer_divida   \n",
       "228   quero_quitar_emprestimo   \n",
       "62      alterar_limite_cartao   \n",
       "374              quero_boleto   \n",
       "376              quero_boleto   \n",
       "377              quero_cartao   \n",
       "236   quero_quitar_emprestimo   \n",
       "106         conhecer_contatos   \n",
       "117           conhecer_divida   \n",
       "354          solicitar_acordo   \n",
       "\n",
       "                                                phrase  \n",
       "114                   Saber em qual cidade tem o banco  \n",
       "150                O que fazer para liberar aplicativo  \n",
       "420                      Quanto eu devo de empréstimo?  \n",
       "152  Preciso do desbloqueio do acesso ao App no cel...  \n",
       "55                   Quero fazer atualização cadastral  \n",
       "104               o auto atendimento está funcionando?  \n",
       "28                               Como entrar na conta?  \n",
       "224                          Quero quitar o empréstimo  \n",
       "250                           Quando chegará o cartão?  \n",
       "381        Tem como eu conseguir um cartão de crédito?  \n",
       "125                           Quero saber meus débitos  \n",
       "228           Qual valor de quitação do meu empréstimo  \n",
       "62     Quero alterar o limite do meu cartão de crédito  \n",
       "374         Gostaria de saber qual a data vence fatura  \n",
       "376                             Quero pagar meu cartão  \n",
       "377                        Solicitar cartão de crédito  \n",
       "236                   Antecipar parcelas do empréstimo  \n",
       "106                Gostaria de ligar para um atendente  \n",
       "117    Estou com débitos aberto no banco Banco Magnus?  \n",
       "354                Gostaria de refinanciar consignados  "
      ]
     },
     "execution_count": 3,
     "metadata": {},
     "output_type": "execute_result"
    }
   ],
   "source": [
    "data.sample(20)"
   ]
  },
  {
   "cell_type": "markdown",
   "metadata": {},
   "source": [
    "Some examples of phrases in the raw data. We have different types of phrases in different intents (classes) where each one represents a customer desire."
   ]
  },
  {
   "cell_type": "markdown",
   "metadata": {},
   "source": [
    "### 3.2 Intents Distribution"
   ]
  },
  {
   "cell_type": "code",
   "execution_count": 9,
   "metadata": {},
   "outputs": [
    {
     "name": "stdout",
     "output_type": "stream",
     "text": [
      "Number of different intents: 24\n",
      "Number of phrases: 434\n",
      "Median number of phrases: 16.5\n"
     ]
    }
   ],
   "source": [
    "# count the number of phrases per intent\n",
    "intents_count = data.intent.value_counts()\n",
    "\n",
    "print('Number of different intents:', len(intents_count.index))\n",
    "print('Number of phrases:', intents_count.sum())\n",
    "print('Median number of phrases:', intents_count.median())"
   ]
  },
  {
   "cell_type": "code",
   "execution_count": 5,
   "metadata": {},
   "outputs": [
    {
     "data": {
      "image/png": "[encoded data removed]",
      "text/plain": [
       "<Figure size 720x720 with 1 Axes>"
      ]
     },
     "metadata": {
      "needs_background": "light"
     },
     "output_type": "display_data"
    }
   ],
   "source": [
    "intents_count.sort_index(ascending = False).plot.barh(figsize = (10, 10))\n",
    "plt.axvline(intents_count.median(), color = 'darkorange', linewidth = 2)\n",
    "plt.title('Intents count', fontsize = 16)\n",
    "plt.xlabel('Count', fontsize = 12)\n",
    "plt.ylabel('Intents', fontsize = 12)\n",
    "plt.legend(['Median'])\n",
    "plt.show()"
   ]
  },
  {
   "cell_type": "markdown",
   "metadata": {},
   "source": [
    "How is possible to note the dataset has unbalanced intents with different numbers of examples. So is necessary to balance our dataset with some techniques. In this case, we will use the technique of oversampling and data augmentation to generate more examples."
   ]
  },
  {
   "cell_type": "markdown",
   "metadata": {},
   "source": [
    "### 3.3 Phrases Distribution"
   ]
  },
  {
   "cell_type": "code",
   "execution_count": 6,
   "metadata": {},
   "outputs": [
    {
     "data": {
      "text/plain": [
       "O que fazer para liberar aplicativo                         4\n",
       "Estou tentando desbloquear meu aplicativo no meu celular    2\n",
       "Aplicativo está bloqueado                                   2\n",
       "Quero alterar o limite do meu cartão de crédito             2\n",
       "Quero desbloquear meu aplicativo                            2\n",
       "                                                           ..\n",
       "Qual o limite que vai vir no cartão?                        1\n",
       "Quero saber quanto posso gastar no cartão                   1\n",
       "Saber quanto tenho de limite                                1\n",
       "Quero saber qual é meu limite                               1\n",
       "Saber desconto do empréstimo                                1\n",
       "Name: phrase, Length: 423, dtype: int64"
      ]
     },
     "execution_count": 6,
     "metadata": {},
     "output_type": "execute_result"
    }
   ],
   "source": [
    "data.phrase.value_counts()"
   ]
  },
  {
   "cell_type": "markdown",
   "metadata": {},
   "source": [
    "As we can see above, we have identical phrases with different intents. This is not a good situation because it can confuse our model. We will drop similar phrases."
   ]
  },
  {
   "cell_type": "code",
   "execution_count": null,
   "metadata": {},
   "outputs": [],
   "source": []
  }
 ],
 "metadata": {
  "interpreter": {
   "hash": "cbb88fee6c90709e9d0560a1662d3be175186907ae34bd2e4721762f1aa1c542"
  },
  "kernelspec": {
   "display_name": "Python 3.9.13 ('env': venv)",
   "language": "python",
   "name": "python3"
  },
  "language_info": {
   "codemirror_mode": {
    "name": "ipython",
    "version": 3
   },
   "file_extension": ".py",
   "mimetype": "text/x-python",
   "name": "python",
   "nbconvert_exporter": "python",
   "pygments_lexer": "ipython3",
   "version": "3.9.13"
  },
  "orig_nbformat": 4
 },
 "nbformat": 4,
 "nbformat_minor": 2
}
